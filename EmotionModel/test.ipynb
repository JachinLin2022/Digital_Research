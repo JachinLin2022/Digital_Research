{
 "cells": [
  {
   "cell_type": "code",
   "execution_count": 30,
   "metadata": {},
   "outputs": [
    {
     "name": "stdout",
     "output_type": "stream",
     "text": [
      "皮尔森相关系数为: 0.7213197414509682\n"
     ]
    }
   ],
   "source": [
    "import pandas as pd\n",
    "import numpy as np\n",
    "start = '2021-01-01'\n",
    "end = '2023-12-31'\n",
    "data = pd.read_csv('metrics.csv')\n",
    "data['date'] = pd.to_datetime(data['date'])\n",
    "# 滑动窗口平滑\n",
    "window_size = 49 # 窗口大小\n",
    "data['metrics'] = data['metrics'].rolling(window_size).mean()\n",
    "data = data[data['metrics'].notnull()]\n",
    "# 时间过滤\n",
    "data = data[(data['date']>= pd.Timestamp(start)) & (data['date'] <= pd.Timestamp(end))]\n",
    "t1 = data['metrics'].to_list()\n",
    "t2 = data['value'].to_list()\n",
    "\n",
    "corr = np.corrcoef(t1, t2)[0, 1]\n",
    "print(\"皮尔森相关系数为:\", corr)"
   ]
  },
  {
   "cell_type": "code",
   "execution_count": 2,
   "metadata": {},
   "outputs": [],
   "source": [
    "import pandas as pd\n",
    "\n",
    "data = pd.read_csv('../bitcoin_scrapy/update/0730/data.csv', dtype={'id':str})"
   ]
  }
 ],
 "metadata": {
  "kernelspec": {
   "display_name": "base",
   "language": "python",
   "name": "python3"
  },
  "language_info": {
   "codemirror_mode": {
    "name": "ipython",
    "version": 3
   },
   "file_extension": ".py",
   "mimetype": "text/x-python",
   "name": "python",
   "nbconvert_exporter": "python",
   "pygments_lexer": "ipython3",
   "version": "3.10.10"
  },
  "orig_nbformat": 4
 },
 "nbformat": 4,
 "nbformat_minor": 2
}
