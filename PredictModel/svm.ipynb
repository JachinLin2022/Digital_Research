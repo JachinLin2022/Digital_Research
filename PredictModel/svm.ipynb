{
 "cells": [
  {
   "cell_type": "code",
   "execution_count": 49,
   "metadata": {},
   "outputs": [],
   "source": [
    "import pandas as pd\n",
    "from sklearn.model_selection import train_test_split\n",
    "from sklearn.metrics import accuracy_score, f1_score, precision_score, recall_score\n",
    "from sklearn.svm import SVC\n",
    "import xgboost\n",
    "from sklearn.model_selection import GridSearchCV\n",
    "\n",
    "\n",
    "\n",
    "data = pd.read_csv('data/predict_model_raw_data.csv')\n",
    "\n",
    "data[['pos','neg','neu']] = data[['pos','neg','neu']].pct_change()\n",
    "\n",
    "data['label'] = data['Close'].diff()\n",
    "data = data[data['label'].notna()]\n",
    "data['label'] = data['label'].map(lambda x: 1 if x > 0 else 0)\n",
    "# lag 一天\n",
    "# data[['pos','neg','neu']] = data[['pos','neg','neu']].shift(3)\n",
    "\n",
    "start = '2020-01-01'\n",
    "end = '2023-05-31'\n",
    "data['date'] = pd.to_datetime(data['date'])\n",
    "data = data[(data['date']>= pd.Timestamp(start)) & (data['date'] <= pd.Timestamp(end))]\n",
    "\n",
    "\n",
    "\n",
    "\n",
    "# \n",
    "# df = pd.read_csv('predict_model_train_data.csv')\n",
    "df = data\n",
    "# print(df)\n",
    "features = df[['pos', 'neg', 'neu']]\n",
    "labels = df['label']\n",
    "# 假设数据集X为特征矩阵，y为目标变量\n",
    "X_train, X_test, y_train, y_test = train_test_split(features, labels, test_size=0.2, random_state=42)\n"
   ]
  },
  {
   "cell_type": "code",
   "execution_count": 50,
   "metadata": {},
   "outputs": [
    {
     "name": "stdout",
     "output_type": "stream",
     "text": [
      "accuracy_score: 0.788\n",
      "precision_score: 0.796875\n",
      "recall_score: 0.7906976744186046\n",
      "f1_score: 0.7937743190661478\n"
     ]
    }
   ],
   "source": [
    "model = SVC()\n",
    "model.fit(X_train, y_train)\n",
    "y_pred = model.predict(X_test)\n",
    "# accuracy = accuracy_score(y_test, y_pred)\n",
    "print('accuracy_score:', accuracy_score(y_test, y_pred))\n",
    "print('precision_score:', precision_score(y_test, y_pred))\n",
    "print('recall_score:', recall_score(y_test, y_pred))\n",
    "print('f1_score:', f1_score(y_test, y_pred))\n"
   ]
  },
  {
   "cell_type": "code",
   "execution_count": 51,
   "metadata": {},
   "outputs": [],
   "source": [
    "# # 定义参数空间\n",
    "# param_grid = {'C': [0.1, 1, 10, 100],\n",
    "#               'gamma': [0.1, 1, 10, 100],\n",
    "#               'kernel': ['linear', 'rbf', 'poly']}\n",
    "\n",
    "# # 创建 SVM 模型\n",
    "# model = SVC()\n",
    "\n",
    "# # 创建 GridSearchCV 对象\n",
    "# grid_search = GridSearchCV(model, param_grid, cv=5)\n",
    "\n",
    "# # 执行网格搜索\n",
    "# grid_search.fit(X_train, y_train)\n",
    "\n",
    "# # 输出最佳参数和对应的准确率\n",
    "# print('Best Parameters:', grid_search.best_params_)\n",
    "# print('Best Accuracy:', grid_search.best_score_)"
   ]
  }
 ],
 "metadata": {
  "kernelspec": {
   "display_name": "base",
   "language": "python",
   "name": "python3"
  },
  "language_info": {
   "codemirror_mode": {
    "name": "ipython",
    "version": 3
   },
   "file_extension": ".py",
   "mimetype": "text/x-python",
   "name": "python",
   "nbconvert_exporter": "python",
   "pygments_lexer": "ipython3",
   "version": "3.10.10"
  },
  "orig_nbformat": 4
 },
 "nbformat": 4,
 "nbformat_minor": 2
}
