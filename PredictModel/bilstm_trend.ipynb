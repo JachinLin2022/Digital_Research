{
 "cells": [
  {
   "attachments": {},
   "cell_type": "markdown",
   "metadata": {},
   "source": [
    "# BiLSTM Model for predicting trend"
   ]
  },
  {
   "cell_type": "code",
   "execution_count": 18,
   "metadata": {},
   "outputs": [],
   "source": [
    "#imports\n",
    "import numpy as np\n",
    "from math import sqrt\n",
    "from numpy import concatenate\n",
    "\n",
    "import sklearn\n",
    "from sklearn.preprocessing import MinMaxScaler\n",
    "from sklearn.preprocessing import LabelEncoder\n",
    "from sklearn.metrics import mean_squared_error\n",
    "from sklearn.utils import shuffle\n",
    "import joblib \n",
    "\n",
    "from matplotlib import pyplot\n",
    "from matplotlib import pyplot as plt\n",
    "from matplotlib.pyplot import figure\n",
    "\n",
    "import pandas as pd\n",
    "from pandas import read_csv\n",
    "from pandas import DataFrame\n",
    "from pandas import concat\n",
    "\n",
    "\n",
    "# import keras.utils\n",
    "# from keras.models import Sequential\n",
    "# from keras.layers import Dropout\n",
    "# from keras.layers import Activation\n",
    "# from keras.layers import Bidirectional\n",
    "# from keras.layers import Dense\n",
    "# from keras.layers import LSTM\n",
    "# from keras.optimizers import Adam\n",
    "\n",
    "# import tensorflow as tf\n",
    "import seaborn as sn\n",
    "# import seed\n",
    "import os\n",
    "# tf.get_logger().setLevel('ERROR')"
   ]
  },
  {
   "cell_type": "code",
   "execution_count": 41,
   "metadata": {},
   "outputs": [],
   "source": [
    "\"\"\"\n",
    "method to create lagged features\n",
    "\n",
    "data - data\n",
    "to_keep - number of lagged_features\n",
    "to_remove - number of days to remove\n",
    "\n",
    "\"\"\"\n",
    "def create_lagged_features(data, to_keep=1, to_remove=1):\n",
    "    variables = 1 if type(data) is list else data.shape[1]\n",
    "    df = DataFrame(data)\n",
    "    columns, names = list(), list()\n",
    "    \n",
    "    for i in range(to_keep, 0, -1):\n",
    "        columns.append(df.shift(i))\n",
    "        names += [('var%d(t-%d)' % (j+1, i)) for j in range(variables)]\n",
    "\n",
    "    for i in range(0, to_remove):\n",
    "        columns.append(df.shift(-i))\n",
    "        if i == 0:\n",
    "            names += [('var%d(t)' % (j+1)) for j in range(variables)]\n",
    "        else:\n",
    "            names += [('var%d(t+%d)' % (j+1, i)) for j in range(variables)]\n",
    "            \n",
    "    #put it all together\n",
    "    final = concat(columns, axis=1)\n",
    "    \n",
    "    final.columns = names\n",
    "    \n",
    "    #drop rows with NaN values\n",
    "    final.dropna(inplace=True)\n",
    "    print(final)  \n",
    "    print(final.columns)  \n",
    "    return final"
   ]
  },
  {
   "cell_type": "code",
   "execution_count": 31,
   "metadata": {},
   "outputs": [],
   "source": [
    "\"\"\"\n",
    "function to calculate rsi\n",
    "\n",
    "data - data\n",
    "period - RSI period\n",
    "\n",
    "\"\"\"\n",
    "def rsi(data, period: int = 14):\n",
    "    \n",
    "    delta = data[\"Close\"].diff()\n",
    "\n",
    "    up, down = delta.copy(), delta.copy()\n",
    "    up[up < 0] = 0\n",
    "    down[down > 0] = 0\n",
    "\n",
    "    gain = up.ewm(com=(period - 1), min_periods=period).mean()\n",
    "    loss = down.abs().ewm(com=(period - 1), min_periods=period).mean()\n",
    "\n",
    "    RS = gain / loss\n",
    "    return 100 - (100 / (1 + RS))"
   ]
  },
  {
   "cell_type": "code",
   "execution_count": 32,
   "metadata": {},
   "outputs": [],
   "source": [
    "#lag granularity - days or hours\n",
    "lag_granularity = \"days\"\n",
    "#lag value\n",
    "lag = 1\n",
    "# type of analyser - TextBlob or vader\n",
    "analyser = \"vader\"\n",
    "# analyser = \"TextBlob\"\n",
    "#dataset grouped type - day or hour\n",
    "dataset_grouped_by = \"day\""
   ]
  },
  {
   "cell_type": "code",
   "execution_count": 33,
   "metadata": {},
   "outputs": [],
   "source": [
    "#read dataset\n",
    "# folder = \"./../../datasets/tweets_prices_volumes_sentiment/\"+analyser+\"/\"+dataset_grouped_by+\"_datasets/cleaned\"\n",
    "# filename = folder+\"/final_data_lag_\"+lag_granularity+\"_\"+str(lag)+\".csv\" if (lag > 0) else folder+\"/final_data_no_lag.csv\"\n",
    "df = pd.read_csv('final_data_lag_days_1.csv')"
   ]
  },
  {
   "cell_type": "code",
   "execution_count": 34,
   "metadata": {},
   "outputs": [
    {
     "ename": "TypeError",
     "evalue": "Could not convert 2018-08-30 17:18:26.822262016+00:00 to numeric",
     "output_type": "error",
     "traceback": [
      "\u001b[1;31m---------------------------------------------------------------------------\u001b[0m",
      "\u001b[1;31mValueError\u001b[0m                                Traceback (most recent call last)",
      "File \u001b[1;32m~\\AppData\\Roaming\\Python\\Python310\\site-packages\\pandas\\core\\nanops.py:1692\u001b[0m, in \u001b[0;36m_ensure_numeric\u001b[1;34m(x)\u001b[0m\n\u001b[0;32m   1691\u001b[0m \u001b[39mtry\u001b[39;00m:\n\u001b[1;32m-> 1692\u001b[0m     x \u001b[39m=\u001b[39m \u001b[39mfloat\u001b[39;49m(x)\n\u001b[0;32m   1693\u001b[0m \u001b[39mexcept\u001b[39;00m (\u001b[39mTypeError\u001b[39;00m, \u001b[39mValueError\u001b[39;00m):\n\u001b[0;32m   1694\u001b[0m     \u001b[39m# e.g. \"1+1j\" or \"foo\"\u001b[39;00m\n",
      "\u001b[1;31mValueError\u001b[0m: could not convert string to float: '2018-08-30 17:18:26.822262016+00:00'",
      "\nDuring handling of the above exception, another exception occurred:\n",
      "\u001b[1;31mValueError\u001b[0m                                Traceback (most recent call last)",
      "File \u001b[1;32m~\\AppData\\Roaming\\Python\\Python310\\site-packages\\pandas\\core\\nanops.py:1696\u001b[0m, in \u001b[0;36m_ensure_numeric\u001b[1;34m(x)\u001b[0m\n\u001b[0;32m   1695\u001b[0m \u001b[39mtry\u001b[39;00m:\n\u001b[1;32m-> 1696\u001b[0m     x \u001b[39m=\u001b[39m \u001b[39mcomplex\u001b[39;49m(x)\n\u001b[0;32m   1697\u001b[0m \u001b[39mexcept\u001b[39;00m \u001b[39mValueError\u001b[39;00m \u001b[39mas\u001b[39;00m err:\n\u001b[0;32m   1698\u001b[0m     \u001b[39m# e.g. \"foo\"\u001b[39;00m\n",
      "\u001b[1;31mValueError\u001b[0m: complex() arg is a malformed string",
      "\nThe above exception was the direct cause of the following exception:\n",
      "\u001b[1;31mTypeError\u001b[0m                                 Traceback (most recent call last)",
      "Cell \u001b[1;32mIn[34], line 2\u001b[0m\n\u001b[0;32m      1\u001b[0m \u001b[39m#group by datetime\u001b[39;00m\n\u001b[1;32m----> 2\u001b[0m df \u001b[39m=\u001b[39m df\u001b[39m.\u001b[39;49mgroupby(\u001b[39m'\u001b[39;49m\u001b[39mDateTime\u001b[39;49m\u001b[39m'\u001b[39;49m)\u001b[39m.\u001b[39;49magg(\u001b[39mlambda\u001b[39;49;00m x: x\u001b[39m.\u001b[39;49mmean())\n",
      "File \u001b[1;32m~\\AppData\\Roaming\\Python\\Python310\\site-packages\\pandas\\core\\groupby\\generic.py:1304\u001b[0m, in \u001b[0;36mDataFrameGroupBy.aggregate\u001b[1;34m(self, func, engine, engine_kwargs, *args, **kwargs)\u001b[0m\n\u001b[0;32m   1302\u001b[0m gba \u001b[39m=\u001b[39m GroupByApply(\u001b[39mself\u001b[39m, [func], args\u001b[39m=\u001b[39m(), kwargs\u001b[39m=\u001b[39m{})\n\u001b[0;32m   1303\u001b[0m \u001b[39mtry\u001b[39;00m:\n\u001b[1;32m-> 1304\u001b[0m     result \u001b[39m=\u001b[39m gba\u001b[39m.\u001b[39;49magg()\n\u001b[0;32m   1306\u001b[0m \u001b[39mexcept\u001b[39;00m \u001b[39mValueError\u001b[39;00m \u001b[39mas\u001b[39;00m err:\n\u001b[0;32m   1307\u001b[0m     \u001b[39mif\u001b[39;00m \u001b[39m\"\u001b[39m\u001b[39mNo objects to concatenate\u001b[39m\u001b[39m\"\u001b[39m \u001b[39mnot\u001b[39;00m \u001b[39min\u001b[39;00m \u001b[39mstr\u001b[39m(err):\n",
      "File \u001b[1;32m~\\AppData\\Roaming\\Python\\Python310\\site-packages\\pandas\\core\\apply.py:166\u001b[0m, in \u001b[0;36mApply.agg\u001b[1;34m(self)\u001b[0m\n\u001b[0;32m    163\u001b[0m     \u001b[39mreturn\u001b[39;00m \u001b[39mself\u001b[39m\u001b[39m.\u001b[39magg_dict_like()\n\u001b[0;32m    164\u001b[0m \u001b[39melif\u001b[39;00m is_list_like(arg):\n\u001b[0;32m    165\u001b[0m     \u001b[39m# we require a list, but not a 'str'\u001b[39;00m\n\u001b[1;32m--> 166\u001b[0m     \u001b[39mreturn\u001b[39;00m \u001b[39mself\u001b[39;49m\u001b[39m.\u001b[39;49magg_list_like()\n\u001b[0;32m    168\u001b[0m \u001b[39mif\u001b[39;00m \u001b[39mcallable\u001b[39m(arg):\n\u001b[0;32m    169\u001b[0m     f \u001b[39m=\u001b[39m com\u001b[39m.\u001b[39mget_cython_func(arg)\n",
      "File \u001b[1;32m~\\AppData\\Roaming\\Python\\Python310\\site-packages\\pandas\\core\\apply.py:355\u001b[0m, in \u001b[0;36mApply.agg_list_like\u001b[1;34m(self)\u001b[0m\n\u001b[0;32m    351\u001b[0m     new_res \u001b[39m=\u001b[39m colg\u001b[39m.\u001b[39maggregate(\n\u001b[0;32m    352\u001b[0m         arg, \u001b[39mself\u001b[39m\u001b[39m.\u001b[39maxis, \u001b[39m*\u001b[39m\u001b[39mself\u001b[39m\u001b[39m.\u001b[39margs, \u001b[39m*\u001b[39m\u001b[39m*\u001b[39m\u001b[39mself\u001b[39m\u001b[39m.\u001b[39mkwargs\n\u001b[0;32m    353\u001b[0m     )\n\u001b[0;32m    354\u001b[0m \u001b[39melse\u001b[39;00m:\n\u001b[1;32m--> 355\u001b[0m     new_res \u001b[39m=\u001b[39m colg\u001b[39m.\u001b[39maggregate(arg, \u001b[39m*\u001b[39m\u001b[39mself\u001b[39m\u001b[39m.\u001b[39margs, \u001b[39m*\u001b[39m\u001b[39m*\u001b[39m\u001b[39mself\u001b[39m\u001b[39m.\u001b[39mkwargs)\n\u001b[0;32m    356\u001b[0m results\u001b[39m.\u001b[39mappend(new_res)\n\u001b[0;32m    357\u001b[0m indices\u001b[39m.\u001b[39mappend(index)\n",
      "File \u001b[1;32m~\\AppData\\Roaming\\Python\\Python310\\site-packages\\pandas\\core\\groupby\\generic.py:238\u001b[0m, in \u001b[0;36mSeriesGroupBy.aggregate\u001b[1;34m(self, func, engine, engine_kwargs, *args, **kwargs)\u001b[0m\n\u001b[0;32m    234\u001b[0m \u001b[39melif\u001b[39;00m \u001b[39misinstance\u001b[39m(func, abc\u001b[39m.\u001b[39mIterable):\n\u001b[0;32m    235\u001b[0m     \u001b[39m# Catch instances of lists / tuples\u001b[39;00m\n\u001b[0;32m    236\u001b[0m     \u001b[39m# but not the class list / tuple itself.\u001b[39;00m\n\u001b[0;32m    237\u001b[0m     func \u001b[39m=\u001b[39m maybe_mangle_lambdas(func)\n\u001b[1;32m--> 238\u001b[0m     ret \u001b[39m=\u001b[39m \u001b[39mself\u001b[39m\u001b[39m.\u001b[39m_aggregate_multiple_funcs(func, \u001b[39m*\u001b[39margs, \u001b[39m*\u001b[39m\u001b[39m*\u001b[39mkwargs)\n\u001b[0;32m    239\u001b[0m     \u001b[39mif\u001b[39;00m relabeling:\n\u001b[0;32m    240\u001b[0m         \u001b[39m# columns is not narrowed by mypy from relabeling flag\u001b[39;00m\n\u001b[0;32m    241\u001b[0m         \u001b[39massert\u001b[39;00m columns \u001b[39mis\u001b[39;00m \u001b[39mnot\u001b[39;00m \u001b[39mNone\u001b[39;00m  \u001b[39m# for mypy\u001b[39;00m\n",
      "File \u001b[1;32m~\\AppData\\Roaming\\Python\\Python310\\site-packages\\pandas\\core\\groupby\\generic.py:316\u001b[0m, in \u001b[0;36mSeriesGroupBy._aggregate_multiple_funcs\u001b[1;34m(self, arg, *args, **kwargs)\u001b[0m\n\u001b[0;32m    314\u001b[0m     \u001b[39mfor\u001b[39;00m idx, (name, func) \u001b[39min\u001b[39;00m \u001b[39menumerate\u001b[39m(arg):\n\u001b[0;32m    315\u001b[0m         key \u001b[39m=\u001b[39m base\u001b[39m.\u001b[39mOutputKey(label\u001b[39m=\u001b[39mname, position\u001b[39m=\u001b[39midx)\n\u001b[1;32m--> 316\u001b[0m         results[key] \u001b[39m=\u001b[39m \u001b[39mself\u001b[39m\u001b[39m.\u001b[39maggregate(func, \u001b[39m*\u001b[39margs, \u001b[39m*\u001b[39m\u001b[39m*\u001b[39mkwargs)\n\u001b[0;32m    318\u001b[0m \u001b[39mif\u001b[39;00m \u001b[39many\u001b[39m(\u001b[39misinstance\u001b[39m(x, DataFrame) \u001b[39mfor\u001b[39;00m x \u001b[39min\u001b[39;00m results\u001b[39m.\u001b[39mvalues()):\n\u001b[0;32m    319\u001b[0m     \u001b[39mfrom\u001b[39;00m \u001b[39mpandas\u001b[39;00m \u001b[39mimport\u001b[39;00m concat\n",
      "File \u001b[1;32m~\\AppData\\Roaming\\Python\\Python310\\site-packages\\pandas\\core\\groupby\\generic.py:269\u001b[0m, in \u001b[0;36mSeriesGroupBy.aggregate\u001b[1;34m(self, func, engine, engine_kwargs, *args, **kwargs)\u001b[0m\n\u001b[0;32m    266\u001b[0m     \u001b[39mreturn\u001b[39;00m \u001b[39mself\u001b[39m\u001b[39m.\u001b[39m_python_agg_general(func, \u001b[39m*\u001b[39margs, \u001b[39m*\u001b[39m\u001b[39m*\u001b[39mkwargs)\n\u001b[0;32m    268\u001b[0m \u001b[39mtry\u001b[39;00m:\n\u001b[1;32m--> 269\u001b[0m     \u001b[39mreturn\u001b[39;00m \u001b[39mself\u001b[39m\u001b[39m.\u001b[39m_python_agg_general(func, \u001b[39m*\u001b[39margs, \u001b[39m*\u001b[39m\u001b[39m*\u001b[39mkwargs)\n\u001b[0;32m    270\u001b[0m \u001b[39mexcept\u001b[39;00m \u001b[39mKeyError\u001b[39;00m:\n\u001b[0;32m    271\u001b[0m     \u001b[39m# KeyError raised in test_groupby.test_basic is bc the func does\u001b[39;00m\n\u001b[0;32m    272\u001b[0m     \u001b[39m#  a dictionary lookup on group.name, but group name is not\u001b[39;00m\n\u001b[0;32m    273\u001b[0m     \u001b[39m#  pinned in _python_agg_general, only in _aggregate_named\u001b[39;00m\n\u001b[0;32m    274\u001b[0m     result \u001b[39m=\u001b[39m \u001b[39mself\u001b[39m\u001b[39m.\u001b[39m_aggregate_named(func, \u001b[39m*\u001b[39margs, \u001b[39m*\u001b[39m\u001b[39m*\u001b[39mkwargs)\n",
      "File \u001b[1;32m~\\AppData\\Roaming\\Python\\Python310\\site-packages\\pandas\\core\\groupby\\generic.py:288\u001b[0m, in \u001b[0;36mSeriesGroupBy._python_agg_general\u001b[1;34m(self, func, *args, **kwargs)\u001b[0m\n\u001b[0;32m    285\u001b[0m f \u001b[39m=\u001b[39m \u001b[39mlambda\u001b[39;00m x: func(x, \u001b[39m*\u001b[39margs, \u001b[39m*\u001b[39m\u001b[39m*\u001b[39mkwargs)\n\u001b[0;32m    287\u001b[0m obj \u001b[39m=\u001b[39m \u001b[39mself\u001b[39m\u001b[39m.\u001b[39m_obj_with_exclusions\n\u001b[1;32m--> 288\u001b[0m result \u001b[39m=\u001b[39m \u001b[39mself\u001b[39;49m\u001b[39m.\u001b[39;49mgrouper\u001b[39m.\u001b[39;49magg_series(obj, f)\n\u001b[0;32m    289\u001b[0m res \u001b[39m=\u001b[39m obj\u001b[39m.\u001b[39m_constructor(result, name\u001b[39m=\u001b[39mobj\u001b[39m.\u001b[39mname)\n\u001b[0;32m    290\u001b[0m \u001b[39mreturn\u001b[39;00m \u001b[39mself\u001b[39m\u001b[39m.\u001b[39m_wrap_aggregated_output(res)\n",
      "File \u001b[1;32m~\\AppData\\Roaming\\Python\\Python310\\site-packages\\pandas\\core\\groupby\\ops.py:994\u001b[0m, in \u001b[0;36mBaseGrouper.agg_series\u001b[1;34m(self, obj, func, preserve_dtype)\u001b[0m\n\u001b[0;32m    987\u001b[0m \u001b[39mif\u001b[39;00m \u001b[39mlen\u001b[39m(obj) \u001b[39m>\u001b[39m \u001b[39m0\u001b[39m \u001b[39mand\u001b[39;00m \u001b[39mnot\u001b[39;00m \u001b[39misinstance\u001b[39m(obj\u001b[39m.\u001b[39m_values, np\u001b[39m.\u001b[39mndarray):\n\u001b[0;32m    988\u001b[0m     \u001b[39m# we can preserve a little bit more aggressively with EA dtype\u001b[39;00m\n\u001b[0;32m    989\u001b[0m     \u001b[39m#  because maybe_cast_pointwise_result will do a try/except\u001b[39;00m\n\u001b[0;32m    990\u001b[0m     \u001b[39m#  with _from_sequence.  NB we are assuming here that _from_sequence\u001b[39;00m\n\u001b[0;32m    991\u001b[0m     \u001b[39m#  is sufficiently strict that it casts appropriately.\u001b[39;00m\n\u001b[0;32m    992\u001b[0m     preserve_dtype \u001b[39m=\u001b[39m \u001b[39mTrue\u001b[39;00m\n\u001b[1;32m--> 994\u001b[0m result \u001b[39m=\u001b[39m \u001b[39mself\u001b[39;49m\u001b[39m.\u001b[39;49m_aggregate_series_pure_python(obj, func)\n\u001b[0;32m    996\u001b[0m npvalues \u001b[39m=\u001b[39m lib\u001b[39m.\u001b[39mmaybe_convert_objects(result, try_float\u001b[39m=\u001b[39m\u001b[39mFalse\u001b[39;00m)\n\u001b[0;32m    997\u001b[0m \u001b[39mif\u001b[39;00m preserve_dtype:\n",
      "File \u001b[1;32m~\\AppData\\Roaming\\Python\\Python310\\site-packages\\pandas\\core\\groupby\\ops.py:1015\u001b[0m, in \u001b[0;36mBaseGrouper._aggregate_series_pure_python\u001b[1;34m(self, obj, func)\u001b[0m\n\u001b[0;32m   1012\u001b[0m splitter \u001b[39m=\u001b[39m \u001b[39mself\u001b[39m\u001b[39m.\u001b[39m_get_splitter(obj, axis\u001b[39m=\u001b[39m\u001b[39m0\u001b[39m)\n\u001b[0;32m   1014\u001b[0m \u001b[39mfor\u001b[39;00m i, group \u001b[39min\u001b[39;00m \u001b[39menumerate\u001b[39m(splitter):\n\u001b[1;32m-> 1015\u001b[0m     res \u001b[39m=\u001b[39m func(group)\n\u001b[0;32m   1016\u001b[0m     res \u001b[39m=\u001b[39m libreduction\u001b[39m.\u001b[39mextract_result(res)\n\u001b[0;32m   1018\u001b[0m     \u001b[39mif\u001b[39;00m \u001b[39mnot\u001b[39;00m initialized:\n\u001b[0;32m   1019\u001b[0m         \u001b[39m# We only do this validation on the first iteration\u001b[39;00m\n",
      "File \u001b[1;32m~\\AppData\\Roaming\\Python\\Python310\\site-packages\\pandas\\core\\groupby\\generic.py:285\u001b[0m, in \u001b[0;36mSeriesGroupBy._python_agg_general.<locals>.<lambda>\u001b[1;34m(x)\u001b[0m\n\u001b[0;32m    283\u001b[0m \u001b[39mdef\u001b[39;00m \u001b[39m_python_agg_general\u001b[39m(\u001b[39mself\u001b[39m, func, \u001b[39m*\u001b[39margs, \u001b[39m*\u001b[39m\u001b[39m*\u001b[39mkwargs):\n\u001b[0;32m    284\u001b[0m     func \u001b[39m=\u001b[39m com\u001b[39m.\u001b[39mis_builtin_func(func)\n\u001b[1;32m--> 285\u001b[0m     f \u001b[39m=\u001b[39m \u001b[39mlambda\u001b[39;00m x: func(x, \u001b[39m*\u001b[39margs, \u001b[39m*\u001b[39m\u001b[39m*\u001b[39mkwargs)\n\u001b[0;32m    287\u001b[0m     obj \u001b[39m=\u001b[39m \u001b[39mself\u001b[39m\u001b[39m.\u001b[39m_obj_with_exclusions\n\u001b[0;32m    288\u001b[0m     result \u001b[39m=\u001b[39m \u001b[39mself\u001b[39m\u001b[39m.\u001b[39mgrouper\u001b[39m.\u001b[39magg_series(obj, f)\n",
      "Cell \u001b[1;32mIn[34], line 2\u001b[0m, in \u001b[0;36m<lambda>\u001b[1;34m(x)\u001b[0m\n\u001b[0;32m      1\u001b[0m \u001b[39m#group by datetime\u001b[39;00m\n\u001b[1;32m----> 2\u001b[0m df \u001b[39m=\u001b[39m df\u001b[39m.\u001b[39mgroupby(\u001b[39m'\u001b[39m\u001b[39mDateTime\u001b[39m\u001b[39m'\u001b[39m)\u001b[39m.\u001b[39magg(\u001b[39mlambda\u001b[39;00m x: x\u001b[39m.\u001b[39;49mmean())\n",
      "File \u001b[1;32m~\\AppData\\Roaming\\Python\\Python310\\site-packages\\pandas\\core\\generic.py:11556\u001b[0m, in \u001b[0;36mNDFrame._add_numeric_operations.<locals>.mean\u001b[1;34m(self, axis, skipna, numeric_only, **kwargs)\u001b[0m\n\u001b[0;32m  11539\u001b[0m \u001b[39m@doc\u001b[39m(\n\u001b[0;32m  11540\u001b[0m     _num_doc,\n\u001b[0;32m  11541\u001b[0m     desc\u001b[39m=\u001b[39m\u001b[39m\"\u001b[39m\u001b[39mReturn the mean of the values over the requested axis.\u001b[39m\u001b[39m\"\u001b[39m,\n\u001b[1;32m   (...)\u001b[0m\n\u001b[0;32m  11554\u001b[0m     \u001b[39m*\u001b[39m\u001b[39m*\u001b[39mkwargs,\n\u001b[0;32m  11555\u001b[0m ):\n\u001b[1;32m> 11556\u001b[0m     \u001b[39mreturn\u001b[39;00m NDFrame\u001b[39m.\u001b[39mmean(\u001b[39mself\u001b[39m, axis, skipna, numeric_only, \u001b[39m*\u001b[39m\u001b[39m*\u001b[39mkwargs)\n",
      "File \u001b[1;32m~\\AppData\\Roaming\\Python\\Python310\\site-packages\\pandas\\core\\generic.py:11201\u001b[0m, in \u001b[0;36mNDFrame.mean\u001b[1;34m(self, axis, skipna, numeric_only, **kwargs)\u001b[0m\n\u001b[0;32m  11194\u001b[0m \u001b[39mdef\u001b[39;00m \u001b[39mmean\u001b[39m(\n\u001b[0;32m  11195\u001b[0m     \u001b[39mself\u001b[39m,\n\u001b[0;32m  11196\u001b[0m     axis: Axis \u001b[39m|\u001b[39m \u001b[39mNone\u001b[39;00m \u001b[39m=\u001b[39m \u001b[39m0\u001b[39m,\n\u001b[1;32m   (...)\u001b[0m\n\u001b[0;32m  11199\u001b[0m     \u001b[39m*\u001b[39m\u001b[39m*\u001b[39mkwargs,\n\u001b[0;32m  11200\u001b[0m ) \u001b[39m-\u001b[39m\u001b[39m>\u001b[39m Series \u001b[39m|\u001b[39m \u001b[39mfloat\u001b[39m:\n\u001b[1;32m> 11201\u001b[0m     \u001b[39mreturn\u001b[39;00m \u001b[39mself\u001b[39m\u001b[39m.\u001b[39m_stat_function(\n\u001b[0;32m  11202\u001b[0m         \u001b[39m\"\u001b[39m\u001b[39mmean\u001b[39m\u001b[39m\"\u001b[39m, nanops\u001b[39m.\u001b[39mnanmean, axis, skipna, numeric_only, \u001b[39m*\u001b[39m\u001b[39m*\u001b[39mkwargs\n\u001b[0;32m  11203\u001b[0m     )\n",
      "File \u001b[1;32m~\\AppData\\Roaming\\Python\\Python310\\site-packages\\pandas\\core\\generic.py:11158\u001b[0m, in \u001b[0;36mNDFrame._stat_function\u001b[1;34m(self, name, func, axis, skipna, numeric_only, **kwargs)\u001b[0m\n\u001b[0;32m  11154\u001b[0m     nv\u001b[39m.\u001b[39mvalidate_stat_func((), kwargs, fname\u001b[39m=\u001b[39mname)\n\u001b[0;32m  11156\u001b[0m validate_bool_kwarg(skipna, \u001b[39m\"\u001b[39m\u001b[39mskipna\u001b[39m\u001b[39m\"\u001b[39m, none_allowed\u001b[39m=\u001b[39m\u001b[39mFalse\u001b[39;00m)\n\u001b[1;32m> 11158\u001b[0m \u001b[39mreturn\u001b[39;00m \u001b[39mself\u001b[39;49m\u001b[39m.\u001b[39;49m_reduce(\n\u001b[0;32m  11159\u001b[0m     func, name\u001b[39m=\u001b[39;49mname, axis\u001b[39m=\u001b[39;49maxis, skipna\u001b[39m=\u001b[39;49mskipna, numeric_only\u001b[39m=\u001b[39;49mnumeric_only\n\u001b[0;32m  11160\u001b[0m )\n",
      "File \u001b[1;32m~\\AppData\\Roaming\\Python\\Python310\\site-packages\\pandas\\core\\series.py:4670\u001b[0m, in \u001b[0;36mSeries._reduce\u001b[1;34m(self, op, name, axis, skipna, numeric_only, filter_type, **kwds)\u001b[0m\n\u001b[0;32m   4665\u001b[0m     \u001b[39mraise\u001b[39;00m \u001b[39mTypeError\u001b[39;00m(\n\u001b[0;32m   4666\u001b[0m         \u001b[39mf\u001b[39m\u001b[39m\"\u001b[39m\u001b[39mSeries.\u001b[39m\u001b[39m{\u001b[39;00mname\u001b[39m}\u001b[39;00m\u001b[39m does not allow \u001b[39m\u001b[39m{\u001b[39;00mkwd_name\u001b[39m}\u001b[39;00m\u001b[39m=\u001b[39m\u001b[39m{\u001b[39;00mnumeric_only\u001b[39m}\u001b[39;00m\u001b[39m \u001b[39m\u001b[39m\"\u001b[39m\n\u001b[0;32m   4667\u001b[0m         \u001b[39m\"\u001b[39m\u001b[39mwith non-numeric dtypes.\u001b[39m\u001b[39m\"\u001b[39m\n\u001b[0;32m   4668\u001b[0m     )\n\u001b[0;32m   4669\u001b[0m \u001b[39mwith\u001b[39;00m np\u001b[39m.\u001b[39merrstate(\u001b[39mall\u001b[39m\u001b[39m=\u001b[39m\u001b[39m\"\u001b[39m\u001b[39mignore\u001b[39m\u001b[39m\"\u001b[39m):\n\u001b[1;32m-> 4670\u001b[0m     \u001b[39mreturn\u001b[39;00m op(delegate, skipna\u001b[39m=\u001b[39mskipna, \u001b[39m*\u001b[39m\u001b[39m*\u001b[39mkwds)\n",
      "File \u001b[1;32m~\\AppData\\Roaming\\Python\\Python310\\site-packages\\pandas\\core\\nanops.py:96\u001b[0m, in \u001b[0;36mdisallow.__call__.<locals>._f\u001b[1;34m(*args, **kwargs)\u001b[0m\n\u001b[0;32m     94\u001b[0m \u001b[39mtry\u001b[39;00m:\n\u001b[0;32m     95\u001b[0m     \u001b[39mwith\u001b[39;00m np\u001b[39m.\u001b[39merrstate(invalid\u001b[39m=\u001b[39m\u001b[39m\"\u001b[39m\u001b[39mignore\u001b[39m\u001b[39m\"\u001b[39m):\n\u001b[1;32m---> 96\u001b[0m         \u001b[39mreturn\u001b[39;00m f(\u001b[39m*\u001b[39margs, \u001b[39m*\u001b[39m\u001b[39m*\u001b[39mkwargs)\n\u001b[0;32m     97\u001b[0m \u001b[39mexcept\u001b[39;00m \u001b[39mValueError\u001b[39;00m \u001b[39mas\u001b[39;00m e:\n\u001b[0;32m     98\u001b[0m     \u001b[39m# we want to transform an object array\u001b[39;00m\n\u001b[0;32m     99\u001b[0m     \u001b[39m# ValueError message to the more typical TypeError\u001b[39;00m\n\u001b[0;32m    100\u001b[0m     \u001b[39m# e.g. this is normally a disallowed function on\u001b[39;00m\n\u001b[0;32m    101\u001b[0m     \u001b[39m# object arrays that contain strings\u001b[39;00m\n\u001b[0;32m    102\u001b[0m     \u001b[39mif\u001b[39;00m is_object_dtype(args[\u001b[39m0\u001b[39m]):\n",
      "File \u001b[1;32m~\\AppData\\Roaming\\Python\\Python310\\site-packages\\pandas\\core\\nanops.py:158\u001b[0m, in \u001b[0;36mbottleneck_switch.__call__.<locals>.f\u001b[1;34m(values, axis, skipna, **kwds)\u001b[0m\n\u001b[0;32m    156\u001b[0m         result \u001b[39m=\u001b[39m alt(values, axis\u001b[39m=\u001b[39maxis, skipna\u001b[39m=\u001b[39mskipna, \u001b[39m*\u001b[39m\u001b[39m*\u001b[39mkwds)\n\u001b[0;32m    157\u001b[0m \u001b[39melse\u001b[39;00m:\n\u001b[1;32m--> 158\u001b[0m     result \u001b[39m=\u001b[39m alt(values, axis\u001b[39m=\u001b[39maxis, skipna\u001b[39m=\u001b[39mskipna, \u001b[39m*\u001b[39m\u001b[39m*\u001b[39mkwds)\n\u001b[0;32m    160\u001b[0m \u001b[39mreturn\u001b[39;00m result\n",
      "File \u001b[1;32m~\\AppData\\Roaming\\Python\\Python310\\site-packages\\pandas\\core\\nanops.py:421\u001b[0m, in \u001b[0;36m_datetimelike_compat.<locals>.new_func\u001b[1;34m(values, axis, skipna, mask, **kwargs)\u001b[0m\n\u001b[0;32m    418\u001b[0m \u001b[39mif\u001b[39;00m datetimelike \u001b[39mand\u001b[39;00m mask \u001b[39mis\u001b[39;00m \u001b[39mNone\u001b[39;00m:\n\u001b[0;32m    419\u001b[0m     mask \u001b[39m=\u001b[39m isna(values)\n\u001b[1;32m--> 421\u001b[0m result \u001b[39m=\u001b[39m func(values, axis\u001b[39m=\u001b[39maxis, skipna\u001b[39m=\u001b[39mskipna, mask\u001b[39m=\u001b[39mmask, \u001b[39m*\u001b[39m\u001b[39m*\u001b[39mkwargs)\n\u001b[0;32m    423\u001b[0m \u001b[39mif\u001b[39;00m datetimelike:\n\u001b[0;32m    424\u001b[0m     result \u001b[39m=\u001b[39m _wrap_results(result, orig_values\u001b[39m.\u001b[39mdtype, fill_value\u001b[39m=\u001b[39miNaT)\n",
      "File \u001b[1;32m~\\AppData\\Roaming\\Python\\Python310\\site-packages\\pandas\\core\\nanops.py:727\u001b[0m, in \u001b[0;36mnanmean\u001b[1;34m(values, axis, skipna, mask)\u001b[0m\n\u001b[0;32m    724\u001b[0m     dtype_count \u001b[39m=\u001b[39m dtype\n\u001b[0;32m    726\u001b[0m count \u001b[39m=\u001b[39m _get_counts(values\u001b[39m.\u001b[39mshape, mask, axis, dtype\u001b[39m=\u001b[39mdtype_count)\n\u001b[1;32m--> 727\u001b[0m the_sum \u001b[39m=\u001b[39m _ensure_numeric(values\u001b[39m.\u001b[39;49msum(axis, dtype\u001b[39m=\u001b[39;49mdtype_sum))\n\u001b[0;32m    729\u001b[0m \u001b[39mif\u001b[39;00m axis \u001b[39mis\u001b[39;00m \u001b[39mnot\u001b[39;00m \u001b[39mNone\u001b[39;00m \u001b[39mand\u001b[39;00m \u001b[39mgetattr\u001b[39m(the_sum, \u001b[39m\"\u001b[39m\u001b[39mndim\u001b[39m\u001b[39m\"\u001b[39m, \u001b[39mFalse\u001b[39;00m):\n\u001b[0;32m    730\u001b[0m     count \u001b[39m=\u001b[39m cast(np\u001b[39m.\u001b[39mndarray, count)\n",
      "File \u001b[1;32m~\\AppData\\Roaming\\Python\\Python310\\site-packages\\pandas\\core\\nanops.py:1699\u001b[0m, in \u001b[0;36m_ensure_numeric\u001b[1;34m(x)\u001b[0m\n\u001b[0;32m   1696\u001b[0m             x \u001b[39m=\u001b[39m \u001b[39mcomplex\u001b[39m(x)\n\u001b[0;32m   1697\u001b[0m         \u001b[39mexcept\u001b[39;00m \u001b[39mValueError\u001b[39;00m \u001b[39mas\u001b[39;00m err:\n\u001b[0;32m   1698\u001b[0m             \u001b[39m# e.g. \"foo\"\u001b[39;00m\n\u001b[1;32m-> 1699\u001b[0m             \u001b[39mraise\u001b[39;00m \u001b[39mTypeError\u001b[39;00m(\u001b[39mf\u001b[39m\u001b[39m\"\u001b[39m\u001b[39mCould not convert \u001b[39m\u001b[39m{\u001b[39;00mx\u001b[39m}\u001b[39;00m\u001b[39m to numeric\u001b[39m\u001b[39m\"\u001b[39m) \u001b[39mfrom\u001b[39;00m \u001b[39merr\u001b[39;00m\n\u001b[0;32m   1700\u001b[0m \u001b[39mreturn\u001b[39;00m x\n",
      "\u001b[1;31mTypeError\u001b[0m: Could not convert 2018-08-30 17:18:26.822262016+00:00 to numeric"
     ]
    }
   ],
   "source": [
    "#group by datetime\n",
    "df = df.groupby('DateTime').agg(lambda x: x.mean())"
   ]
  },
  {
   "cell_type": "code",
   "execution_count": null,
   "metadata": {},
   "outputs": [],
   "source": [
    "#get change label\n",
    "df[\"Change\"] = (df[\"Close\"] > df[\"Close\"].shift(1)).astype(int)\n",
    "\n",
    "add_RSI = False\n",
    "add_longMAvg = False\n",
    "add_shortMAvg = False\n",
    "\n",
    "if(add_RSI):\n",
    "    #calcualte RSI\n",
    "    RSI = 14\n",
    "    df['RSI'] = rsi(df, RSI)\n",
    "    df = df.iloc[RSI:]\n",
    "\n",
    "#calculate moving averages\n",
    "if(add_shortMAvg):\n",
    "    short_window = 9\n",
    "    df['short_mavg'] = df.rolling(window=short_window)[\"Close\"].mean()\n",
    "    \n",
    "if(add_longMAvg):\n",
    "    long_window = 21\n",
    "    df[\"long_mavg\"] = df.rolling(window=long_window)[\"Close\"].mean()\n",
    "    \n",
    "if(add_longMAvg):\n",
    "    df = df.iloc[long_window:]\n",
    "elif(add_RSI):\n",
    "    df = df.iloc[RSI:]\n",
    "elif(add_shortMAvg):\n",
    "    df = df.iloc[short_window:]"
   ]
  },
  {
   "cell_type": "code",
   "execution_count": null,
   "metadata": {},
   "outputs": [],
   "source": [
    "#keep only wanted columns\n",
    "features = ['Change', 'subjectivity', 'polarity','Tweet_vol','Volume_(BTC)'] if analyser == \"Textblob\" else ['Change', 'Close', 'pos_pol', 'neg_pol', 'Tweet_vol']\n",
    "\n",
    "if(add_RSI):\n",
    "    features.append(\"RSI\")\n",
    "    \n",
    "if(add_longMAvg):\n",
    "    features.append(\"long_mavg\")\n",
    "    \n",
    "if(add_shortMAvg):\n",
    "    features.append(\"short_mavg\")\n",
    "\n",
    "df = df[features]"
   ]
  },
  {
   "cell_type": "code",
   "execution_count": null,
   "metadata": {},
   "outputs": [
    {
     "data": {
      "image/png": "[encoded data removed]",
      "text/plain": [
       "<Figure size 640x480 with 2 Axes>"
      ]
     },
     "metadata": {},
     "output_type": "display_data"
    }
   ],
   "source": [
    "#plot correlation matrix\n",
    "sn.heatmap(df.corr(), annot=True)\n",
    "plt.show()"
   ]
  },
  {
   "cell_type": "code",
   "execution_count": null,
   "metadata": {},
   "outputs": [],
   "source": [
    "#creating copy so that data is not loaded once again\n",
    "df_copy = df.copy()"
   ]
  },
  {
   "cell_type": "code",
   "execution_count": null,
   "metadata": {},
   "outputs": [],
   "source": [
    "#number of previous records to consider for every example\n",
    "n_lag = 7\n",
    "#number of features\n",
    "n_features = len(features)\n",
    "#calculate total_features\n",
    "total_features = n_lag*n_features\n",
    "\n",
    "if(total_features == 0):\n",
    "    total_features = n_features"
   ]
  },
  {
   "cell_type": "code",
   "execution_count": 42,
   "metadata": {},
   "outputs": [
    {
     "name": "stdout",
     "output_type": "stream",
     "text": [
      "     var1(t-7)  var2(t-7)  var3(t-7)  var4(t-7)  var5(t-7)  var1(t-6)  \\\n",
      "7          0.0    7027.99   0.025149   0.008065      557.0        1.0   \n",
      "8          1.0    7187.23   0.019204   0.006645      902.0        1.0   \n",
      "9          1.0    7275.00   0.018378   0.005963      818.0        1.0   \n",
      "10         1.0    7301.01   0.021051   0.007650      860.0        1.0   \n",
      "11         1.0    7357.07   0.017429   0.006508      980.0        0.0   \n",
      "..         ...        ...        ...        ...        ...        ...   \n",
      "446        0.0    8746.45   0.074853   0.027008    63453.0        0.0   \n",
      "447        0.0    8647.04   0.077880   0.029489    57852.0        0.0   \n",
      "448        0.0    8503.74   0.083092   0.031469    57564.0        0.0   \n",
      "449        0.0    8469.20   0.079477   0.031132    56993.0        1.0   \n",
      "450        1.0    8545.36   0.081276   0.031246    46589.0        0.0   \n",
      "\n",
      "     var2(t-6)  var3(t-6)  var4(t-6)  var5(t-6)  ...  var1(t-1)  var2(t-1)  \\\n",
      "7      7187.23   0.019204   0.006645      902.0  ...        0.0    6435.58   \n",
      "8      7275.00   0.018378   0.005963      818.0  ...        0.0    6416.13   \n",
      "9      7301.01   0.021051   0.007650      860.0  ...        0.0    6178.21   \n",
      "10     7357.07   0.017429   0.006508      980.0  ...        1.0    6363.43   \n",
      "11     6927.90   0.018369   0.005037      987.0  ...        0.0    6294.42   \n",
      "..         ...        ...        ...        ...  ...        ...        ...   \n",
      "446    8647.04   0.077880   0.029489    57852.0  ...        0.0    8123.89   \n",
      "447    8503.74   0.083092   0.031469    57564.0  ...        0.0    8085.36   \n",
      "448    8469.20   0.079477   0.031132    56993.0  ...        0.0    7618.17   \n",
      "449    8545.36   0.081276   0.031246    46589.0  ...        0.0    7272.99   \n",
      "450    8200.74   0.078816   0.030284    48266.0  ...        1.0    7308.09   \n",
      "\n",
      "     var3(t-1)  var4(t-1)  var5(t-1)  var1(t)  var2(t)   var3(t)   var4(t)  \\\n",
      "7     0.023273   0.008871     1027.0        0  6416.13  0.020606  0.005504   \n",
      "8     0.020606   0.005504     1012.0        0  6178.21  0.020149  0.006149   \n",
      "9     0.020149   0.006149      800.0        1  6363.43  0.019752  0.006301   \n",
      "10    0.019752   0.006301      787.0        0  6294.42  0.022363  0.007131   \n",
      "11    0.022363   0.007131      876.0        1  6311.43  0.022092  0.007588   \n",
      "..         ...        ...        ...      ...      ...       ...       ...   \n",
      "446   0.079055   0.031069    59746.0        0  8085.36  0.083533  0.030183   \n",
      "447   0.083533   0.030183    62924.0        0  7618.17  0.089065  0.028678   \n",
      "448   0.089065   0.028678    61536.0        0  7272.99  0.086498  0.033858   \n",
      "449   0.086498   0.033858    69663.0        1  7308.09  0.079954  0.037983   \n",
      "450   0.079954   0.037983    74716.0        0  7087.81  0.086385  0.032279   \n",
      "\n",
      "     var5(t)  \n",
      "7     1012.0  \n",
      "8      800.0  \n",
      "9      787.0  \n",
      "10     876.0  \n",
      "11     896.0  \n",
      "..       ...  \n",
      "446  62924.0  \n",
      "447  61536.0  \n",
      "448  69663.0  \n",
      "449  74716.0  \n",
      "450  35701.0  \n",
      "\n",
      "[444 rows x 40 columns]\n",
      "Index(['var1(t-7)', 'var2(t-7)', 'var3(t-7)', 'var4(t-7)', 'var5(t-7)',\n",
      "       'var1(t-6)', 'var2(t-6)', 'var3(t-6)', 'var4(t-6)', 'var5(t-6)',\n",
      "       'var1(t-5)', 'var2(t-5)', 'var3(t-5)', 'var4(t-5)', 'var5(t-5)',\n",
      "       'var1(t-4)', 'var2(t-4)', 'var3(t-4)', 'var4(t-4)', 'var5(t-4)',\n",
      "       'var1(t-3)', 'var2(t-3)', 'var3(t-3)', 'var4(t-3)', 'var5(t-3)',\n",
      "       'var1(t-2)', 'var2(t-2)', 'var3(t-2)', 'var4(t-2)', 'var5(t-2)',\n",
      "       'var1(t-1)', 'var2(t-1)', 'var3(t-1)', 'var4(t-1)', 'var5(t-1)',\n",
      "       'var1(t)', 'var2(t)', 'var3(t)', 'var4(t)', 'var5(t)'],\n",
      "      dtype='object')\n"
     ]
    }
   ],
   "source": [
    "#add lagged data to records\n",
    "data_with_lagged = create_lagged_features(df_copy, n_lag, 1)\n",
    "data_with_lagged = data_with_lagged.reset_index()\n",
    "# data_with_lagged = data_with_lagged.drop(['DateTime'], axis=1)"
   ]
  },
  {
   "cell_type": "code",
   "execution_count": null,
   "metadata": {},
   "outputs": [],
   "source": [
    "#shuffle data\n",
    "np.random.seed(1)\n",
    "#shuffle times \n",
    "shuffle_times = 5;\n",
    "for j in range(0, shuffle_times+1):\n",
    "    data_with_lagged = shuffle(data_with_lagged)"
   ]
  },
  {
   "cell_type": "code",
   "execution_count": null,
   "metadata": {},
   "outputs": [],
   "source": [
    "#divide df into train and test\n",
    "train_ratio = 0.85\n",
    "data_len = len(data_with_lagged)\n",
    "train_size = int(data_len*train_ratio)\n",
    "\n",
    "train = data_with_lagged.iloc[:train_size]\n",
    "test = data_with_lagged.iloc[train_size:]"
   ]
  },
  {
   "cell_type": "code",
   "execution_count": null,
   "metadata": {},
   "outputs": [],
   "source": [
    "#prepare labels\n",
    "train_y = train[\"var1(t)\"].values\n",
    "test_y = test[\"var1(t)\"].values\n",
    "\n",
    "train_y = train_y.reshape(len(train_y), 1)\n",
    "test_y = test_y.reshape(len(test_y), 1)"
   ]
  },
  {
   "cell_type": "code",
   "execution_count": null,
   "metadata": {},
   "outputs": [
    {
     "data": {
      "text/plain": [
       "['saved/scaler.pkl']"
      ]
     },
     "execution_count": 81,
     "metadata": {},
     "output_type": "execute_result"
    }
   ],
   "source": [
    "#normalise features\n",
    "xscaler = MinMaxScaler(feature_range=(0, 1))\n",
    "train = xscaler.fit_transform(train)\n",
    "test = xscaler.transform(test)\n",
    "joblib.dump(xscaler, 'saved/scaler.pkl') "
   ]
  },
  {
   "cell_type": "code",
   "execution_count": null,
   "metadata": {},
   "outputs": [],
   "source": [
    "#prepare data\n",
    "train_labels = train_y\n",
    "test_labels = test_y"
   ]
  },
  {
   "cell_type": "code",
   "execution_count": null,
   "metadata": {},
   "outputs": [],
   "source": [
    "#remove the last set of values(data of time to be predicted)\n",
    "train = train[:, :total_features]\n",
    "test = test[:, :total_features]"
   ]
  },
  {
   "cell_type": "code",
   "execution_count": null,
   "metadata": {},
   "outputs": [],
   "source": [
    "#keep only prices array\n",
    "train_X, train_y = train[:, :total_features], train_y[:, -1]\n",
    "test_X, test_y = test[:, :total_features], test_y[:, -1]"
   ]
  },
  {
   "cell_type": "code",
   "execution_count": null,
   "metadata": {},
   "outputs": [],
   "source": [
    "# reshape input to be 3D [samples, timesteps, features]\n",
    "train_X = train_X.reshape((train_X.shape[0], n_lag, n_features))\n",
    "test_X = test_X.reshape((test_X.shape[0], n_lag, n_features))"
   ]
  },
  {
   "cell_type": "code",
   "execution_count": null,
   "metadata": {},
   "outputs": [],
   "source": [
    "#set labels for training data to categorical\n",
    "train_y = keras.utils.to_categorical(train_y, 2)"
   ]
  },
  {
   "cell_type": "code",
   "execution_count": null,
   "metadata": {},
   "outputs": [],
   "source": [
    "np.random.seed(1) \n",
    "tf.random.set_seed(1)\n",
    "\n",
    "# design network\n",
    "model = Sequential()\n",
    "neurons = 64\n",
    "epochs = 10000\n",
    "dropout = 0.25\n",
    "batch_size = 80\n",
    "activ_func = \"linear\"\n",
    "\n",
    "model.add(Bidirectional(LSTM(neurons, return_sequences=True, input_shape=(train_X.shape[1], train_X.shape[2]), activation=activ_func)))\n",
    "model.add(Dropout(dropout))\n",
    "\n",
    "model.add(Bidirectional(LSTM(neurons, return_sequences=False, activation=activ_func)))\n",
    "model.add(Dropout(dropout))\n",
    "\n",
    "model.add(Dense(2, activation=\"softmax\"))\n",
    "model.compile(loss='categorical_crossentropy', optimizer='adam', metrics=['accuracy'])"
   ]
  },
  {
   "cell_type": "code",
   "execution_count": null,
   "metadata": {},
   "outputs": [
    {
     "name": "stdout",
     "output_type": "stream",
     "text": [
      "Epoch 1/10000\n",
      "4/4 - 4s - loss: 0.6946 - accuracy: 0.4917 - val_loss: 0.6818 - val_accuracy: 0.5526\n",
      "Epoch 2/10000\n",
      "4/4 - 0s - loss: 0.6875 - accuracy: 0.5415 - val_loss: 0.6810 - val_accuracy: 0.5526\n",
      "Epoch 3/10000\n",
      "4/4 - 0s - loss: 0.6924 - accuracy: 0.5216 - val_loss: 0.6809 - val_accuracy: 0.5658\n",
      "Epoch 4/10000\n",
      "4/4 - 0s - loss: 0.6891 - accuracy: 0.5382 - val_loss: 0.6798 - val_accuracy: 0.6184\n",
      "Epoch 5/10000\n",
      "4/4 - 0s - loss: 0.6866 - accuracy: 0.5515 - val_loss: 0.6806 - val_accuracy: 0.5526\n",
      "Epoch 6/10000\n",
      "4/4 - 0s - loss: 0.6891 - accuracy: 0.5216 - val_loss: 0.6785 - val_accuracy: 0.6053\n",
      "Epoch 7/10000\n",
      "4/4 - 0s - loss: 0.6873 - accuracy: 0.5116 - val_loss: 0.6780 - val_accuracy: 0.5921\n",
      "Epoch 8/10000\n",
      "4/4 - 0s - loss: 0.6857 - accuracy: 0.5548 - val_loss: 0.6789 - val_accuracy: 0.5789\n",
      "Epoch 9/10000\n",
      "4/4 - 0s - loss: 0.6821 - accuracy: 0.5615 - val_loss: 0.6806 - val_accuracy: 0.5526\n",
      "Epoch 10/10000\n",
      "4/4 - 0s - loss: 0.6859 - accuracy: 0.5449 - val_loss: 0.6764 - val_accuracy: 0.5526\n",
      "Epoch 11/10000\n",
      "4/4 - 0s - loss: 0.6839 - accuracy: 0.5581 - val_loss: 0.6753 - val_accuracy: 0.5658\n",
      "Epoch 12/10000\n",
      "4/4 - 0s - loss: 0.6818 - accuracy: 0.5482 - val_loss: 0.6739 - val_accuracy: 0.5658\n",
      "Epoch 13/10000\n",
      "4/4 - 0s - loss: 0.6813 - accuracy: 0.5681 - val_loss: 0.6758 - val_accuracy: 0.5658\n",
      "Epoch 14/10000\n",
      "4/4 - 0s - loss: 0.6825 - accuracy: 0.5648 - val_loss: 0.6786 - val_accuracy: 0.5658\n",
      "Epoch 15/10000\n",
      "4/4 - 0s - loss: 0.6785 - accuracy: 0.5648 - val_loss: 0.6756 - val_accuracy: 0.5395\n",
      "Epoch 16/10000\n",
      "4/4 - 0s - loss: 0.6799 - accuracy: 0.5814 - val_loss: 0.6747 - val_accuracy: 0.5921\n",
      "Epoch 17/10000\n",
      "4/4 - 0s - loss: 0.6813 - accuracy: 0.5781 - val_loss: 0.6745 - val_accuracy: 0.5658\n",
      "Epoch 18/10000\n",
      "4/4 - 0s - loss: 0.6840 - accuracy: 0.5382 - val_loss: 0.6763 - val_accuracy: 0.5395\n",
      "Epoch 19/10000\n",
      "4/4 - 0s - loss: 0.6753 - accuracy: 0.5681 - val_loss: 0.6746 - val_accuracy: 0.5658\n",
      "Epoch 20/10000\n",
      "4/4 - 0s - loss: 0.6755 - accuracy: 0.5714 - val_loss: 0.6758 - val_accuracy: 0.5658\n",
      "Epoch 21/10000\n",
      "4/4 - 0s - loss: 0.6723 - accuracy: 0.5714 - val_loss: 0.6769 - val_accuracy: 0.5263\n",
      "Epoch 22/10000\n",
      "4/4 - 0s - loss: 0.6713 - accuracy: 0.5548 - val_loss: 0.6781 - val_accuracy: 0.5658\n",
      "Epoch 23/10000\n",
      "4/4 - 0s - loss: 0.6757 - accuracy: 0.5449 - val_loss: 0.6767 - val_accuracy: 0.5526\n",
      "Epoch 24/10000\n",
      "4/4 - 0s - loss: 0.6779 - accuracy: 0.5814 - val_loss: 0.6764 - val_accuracy: 0.5658\n",
      "Epoch 25/10000\n",
      "4/4 - 0s - loss: 0.6721 - accuracy: 0.5648 - val_loss: 0.6782 - val_accuracy: 0.5395\n",
      "Epoch 26/10000\n",
      "4/4 - 0s - loss: 0.6737 - accuracy: 0.5714 - val_loss: 0.6775 - val_accuracy: 0.5526\n",
      "Epoch 27/10000\n",
      "4/4 - 0s - loss: 0.6711 - accuracy: 0.5814 - val_loss: 0.6773 - val_accuracy: 0.5526\n",
      "Epoch 28/10000\n",
      "4/4 - 0s - loss: 0.6722 - accuracy: 0.5847 - val_loss: 0.6782 - val_accuracy: 0.5526\n",
      "Epoch 29/10000\n",
      "4/4 - 0s - loss: 0.6687 - accuracy: 0.5914 - val_loss: 0.6804 - val_accuracy: 0.5658\n",
      "Epoch 30/10000\n",
      "4/4 - 0s - loss: 0.6670 - accuracy: 0.5914 - val_loss: 0.6809 - val_accuracy: 0.5526\n",
      "Epoch 31/10000\n",
      "4/4 - 0s - loss: 0.6721 - accuracy: 0.5781 - val_loss: 0.6815 - val_accuracy: 0.5789\n",
      "Epoch 32/10000\n",
      "4/4 - 0s - loss: 0.6662 - accuracy: 0.6080 - val_loss: 0.6823 - val_accuracy: 0.5658\n",
      "Epoch 33/10000\n",
      "4/4 - 0s - loss: 0.6653 - accuracy: 0.6080 - val_loss: 0.6822 - val_accuracy: 0.5789\n",
      "Epoch 34/10000\n",
      "4/4 - 0s - loss: 0.6619 - accuracy: 0.6213 - val_loss: 0.6841 - val_accuracy: 0.6316\n",
      "Epoch 35/10000\n",
      "4/4 - 0s - loss: 0.6629 - accuracy: 0.5714 - val_loss: 0.6844 - val_accuracy: 0.6053\n",
      "Epoch 36/10000\n",
      "4/4 - 0s - loss: 0.6733 - accuracy: 0.5615 - val_loss: 0.6864 - val_accuracy: 0.5921\n",
      "Epoch 37/10000\n",
      "4/4 - 0s - loss: 0.6701 - accuracy: 0.5980 - val_loss: 0.6842 - val_accuracy: 0.5526\n",
      "Epoch 38/10000\n",
      "4/4 - 0s - loss: 0.6636 - accuracy: 0.6013 - val_loss: 0.6872 - val_accuracy: 0.5921\n",
      "Epoch 39/10000\n",
      "4/4 - 0s - loss: 0.6602 - accuracy: 0.5681 - val_loss: 0.6837 - val_accuracy: 0.5921\n",
      "Epoch 40/10000\n",
      "4/4 - 0s - loss: 0.6602 - accuracy: 0.6080 - val_loss: 0.6855 - val_accuracy: 0.6184\n",
      "Epoch 41/10000\n",
      "4/4 - 0s - loss: 0.6639 - accuracy: 0.6013 - val_loss: 0.6876 - val_accuracy: 0.5921\n",
      "Epoch 42/10000\n",
      "4/4 - 0s - loss: 0.6764 - accuracy: 0.5648 - val_loss: 0.6924 - val_accuracy: 0.5921\n",
      "Epoch 43/10000\n",
      "4/4 - 0s - loss: 0.6572 - accuracy: 0.5914 - val_loss: 0.6963 - val_accuracy: 0.5263\n",
      "Epoch 44/10000\n",
      "4/4 - 0s - loss: 0.6641 - accuracy: 0.6246 - val_loss: 0.6909 - val_accuracy: 0.5921\n",
      "Epoch 45/10000\n",
      "4/4 - 0s - loss: 0.6765 - accuracy: 0.5548 - val_loss: 0.6939 - val_accuracy: 0.5921\n",
      "Epoch 46/10000\n",
      "4/4 - 0s - loss: 0.6535 - accuracy: 0.5847 - val_loss: 0.6942 - val_accuracy: 0.5263\n",
      "Epoch 47/10000\n",
      "4/4 - 0s - loss: 0.6675 - accuracy: 0.5814 - val_loss: 0.6903 - val_accuracy: 0.5395\n",
      "Epoch 48/10000\n",
      "4/4 - 0s - loss: 0.6554 - accuracy: 0.6113 - val_loss: 0.6976 - val_accuracy: 0.5658\n",
      "Epoch 49/10000\n",
      "4/4 - 0s - loss: 0.6627 - accuracy: 0.5847 - val_loss: 0.6916 - val_accuracy: 0.5658\n",
      "Epoch 50/10000\n",
      "4/4 - 0s - loss: 0.6574 - accuracy: 0.6013 - val_loss: 0.6893 - val_accuracy: 0.5395\n",
      "Epoch 51/10000\n",
      "4/4 - 0s - loss: 0.6550 - accuracy: 0.6013 - val_loss: 0.6905 - val_accuracy: 0.5789\n",
      "Epoch 52/10000\n",
      "4/4 - 0s - loss: 0.6587 - accuracy: 0.6047 - val_loss: 0.6962 - val_accuracy: 0.5658\n",
      "Epoch 53/10000\n",
      "4/4 - 0s - loss: 0.6601 - accuracy: 0.5814 - val_loss: 0.6927 - val_accuracy: 0.5395\n",
      "Epoch 54/10000\n",
      "4/4 - 0s - loss: 0.6557 - accuracy: 0.6013 - val_loss: 0.6963 - val_accuracy: 0.5789\n",
      "Epoch 55/10000\n",
      "4/4 - 0s - loss: 0.6557 - accuracy: 0.5781 - val_loss: 0.7049 - val_accuracy: 0.5526\n",
      "Epoch 56/10000\n",
      "4/4 - 0s - loss: 0.6526 - accuracy: 0.6179 - val_loss: 0.7004 - val_accuracy: 0.5132\n",
      "Epoch 57/10000\n",
      "4/4 - 0s - loss: 0.6627 - accuracy: 0.6080 - val_loss: 0.6986 - val_accuracy: 0.5526\n",
      "Epoch 58/10000\n",
      "4/4 - 0s - loss: 0.6571 - accuracy: 0.5880 - val_loss: 0.7038 - val_accuracy: 0.5263\n",
      "Epoch 59/10000\n",
      "4/4 - 0s - loss: 0.6570 - accuracy: 0.5781 - val_loss: 0.6992 - val_accuracy: 0.5132\n",
      "Epoch 60/10000\n",
      "4/4 - 0s - loss: 0.6483 - accuracy: 0.5880 - val_loss: 0.6958 - val_accuracy: 0.5132\n",
      "Epoch 61/10000\n",
      "4/4 - 0s - loss: 0.6559 - accuracy: 0.5880 - val_loss: 0.6978 - val_accuracy: 0.5000\n",
      "Epoch 62/10000\n",
      "4/4 - 0s - loss: 0.6557 - accuracy: 0.5947 - val_loss: 0.6997 - val_accuracy: 0.5000\n"
     ]
    }
   ],
   "source": [
    "# early stopping\n",
    "callback = keras.callbacks.EarlyStopping(monitor='val_loss', patience =50)\n",
    "\n",
    "# fit network\n",
    "history = model.fit(train_X, train_y, epochs=10000, batch_size=batch_size, verbose=2, shuffle=True,validation_split=0.2, callbacks=[callback])"
   ]
  },
  {
   "cell_type": "code",
   "execution_count": null,
   "metadata": {},
   "outputs": [],
   "source": [
    "#save model\n",
    "model.save(\"saved/ckpt\")"
   ]
  },
  {
   "cell_type": "code",
   "execution_count": null,
   "metadata": {},
   "outputs": [
    {
     "name": "stdout",
     "output_type": "stream",
     "text": [
      "('Failed to import pydot. You must `pip install pydot` and install graphviz (https://graphviz.gitlab.io/download/), ', 'for `pydotprint` to work.')\n"
     ]
    }
   ],
   "source": [
    "#save model\n",
    "model_file = 'model.png'\n",
    "tf.keras.utils.plot_model(model, to_file=model_file, show_shapes=True)"
   ]
  },
  {
   "cell_type": "code",
   "execution_count": null,
   "metadata": {},
   "outputs": [
    {
     "data": {
      "image/png": "[encoded data removed]",
      "text/plain": [
       "<Figure size 432x288 with 1 Axes>"
      ]
     },
     "metadata": {
      "needs_background": "light"
     },
     "output_type": "display_data"
    }
   ],
   "source": [
    "#plot loss graph\n",
    "plt.plot(history.history['loss'], label='train')\n",
    "plt.plot(history.history['val_loss'], label='test')\n",
    "plt.legend()\n",
    "plt.title(\"Loss graph\")\n",
    "plt.show()"
   ]
  },
  {
   "cell_type": "code",
   "execution_count": null,
   "metadata": {},
   "outputs": [
    {
     "data": {
      "image/png": "[encoded data removed]",
      "text/plain": [
       "<Figure size 432x288 with 1 Axes>"
      ]
     },
     "metadata": {
      "needs_background": "light"
     },
     "output_type": "display_data"
    }
   ],
   "source": [
    "#plot training and validation accuracy\n",
    "loss_train = history.history['accuracy']\n",
    "loss_val = history.history['val_accuracy']\n",
    "epochs = range(1,len(loss_val) + 1)\n",
    "plt.plot(epochs, loss_train, 'g', label='Training accuracy')\n",
    "plt.plot(epochs, loss_val, 'b', label='validation accuracy')\n",
    "plt.title('Training and Validation accuracy')\n",
    "plt.xlabel('Epochs')\n",
    "plt.ylabel('Accuracy')\n",
    "plt.legend()\n",
    "plt.show()"
   ]
  },
  {
   "cell_type": "code",
   "execution_count": null,
   "metadata": {},
   "outputs": [],
   "source": [
    "#reshape\n",
    "test_X = test_X.reshape((test_X.shape[0], n_lag, n_features))\n",
    "\n",
    "#predict values for test data\n",
    "pred = model.predict(test_X)\n",
    "\n",
    "#reshape again\n",
    "test_X = test_X.reshape((test_X.shape[0], n_lag* n_features,))"
   ]
  },
  {
   "cell_type": "code",
   "execution_count": null,
   "metadata": {},
   "outputs": [],
   "source": [
    "#change back from categorical\n",
    "pred = np.argmax(pred, axis=1)"
   ]
  },
  {
   "cell_type": "code",
   "execution_count": null,
   "metadata": {},
   "outputs": [
    {
     "name": "stdout",
     "output_type": "stream",
     "text": [
      "Accuracy =  0.6417910447761194\n"
     ]
    }
   ],
   "source": [
    "#calculate accuracy\n",
    "prices = pd.DataFrame()\n",
    "prices[\"Actual\"] = test_y\n",
    "prices[\"Predicted\"] = pred\n",
    "\n",
    "prices[\"Correct\"] = (prices[\"Actual\"] - prices[\"Predicted\"]) == 0\n",
    "incorrect = prices.loc[prices['Correct'] == False]\n",
    "incorrect_len = len(incorrect)\n",
    "prices_len = len(prices)\n",
    "\n",
    "print(\"Accuracy = \",((prices_len-incorrect_len)/prices_len))"
   ]
  },
  {
   "cell_type": "code",
   "execution_count": null,
   "metadata": {},
   "outputs": [
    {
     "data": {
      "text/plain": [
       "{'0': {'precision': 0.76,\n",
       "  'recall': 0.5135135135135135,\n",
       "  'f1-score': 0.6129032258064517,\n",
       "  'support': 37},\n",
       " '1': {'precision': 0.5714285714285714,\n",
       "  'recall': 0.8,\n",
       "  'f1-score': 0.6666666666666666,\n",
       "  'support': 30},\n",
       " 'accuracy': 0.6417910447761194,\n",
       " 'macro avg': {'precision': 0.6657142857142857,\n",
       "  'recall': 0.6567567567567567,\n",
       "  'f1-score': 0.6397849462365592,\n",
       "  'support': 67},\n",
       " 'weighted avg': {'precision': 0.6755650319829425,\n",
       "  'recall': 0.6417910447761194,\n",
       "  'f1-score': 0.6369764082811749,\n",
       "  'support': 67}}"
      ]
     },
     "execution_count": 95,
     "metadata": {},
     "output_type": "execute_result"
    }
   ],
   "source": [
    "sklearn.metrics.classification_report(test_y, pred, zero_division=0,output_dict=True)"
   ]
  },
  {
   "cell_type": "code",
   "execution_count": null,
   "metadata": {},
   "outputs": [],
   "source": []
  }
 ],
 "metadata": {
  "kernelspec": {
   "display_name": "Python 3",
   "language": "python",
   "name": "python3"
  },
  "language_info": {
   "codemirror_mode": {
    "name": "ipython",
    "version": 3
   },
   "file_extension": ".py",
   "mimetype": "text/x-python",
   "name": "python",
   "nbconvert_exporter": "python",
   "pygments_lexer": "ipython3",
   "version": "3.10.10"
  }
 },
 "nbformat": 4,
 "nbformat_minor": 4
}
