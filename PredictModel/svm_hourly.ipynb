{
 "cells": [
  {
   "cell_type": "code",
   "execution_count": 23,
   "metadata": {},
   "outputs": [
    {
     "name": "stdout",
     "output_type": "stream",
     "text": [
      "1        0.003314\n",
      "2        0.003723\n",
      "3       -0.001868\n",
      "4       -0.000170\n",
      "5        0.000080\n",
      "           ...   \n",
      "24007    0.000935\n",
      "24008    0.001382\n",
      "24009   -0.000985\n",
      "24010    0.002955\n",
      "24011    0.002459\n",
      "Name: label, Length: 24011, dtype: float64\n",
      "16744 7267 0.697347049269085\n"
     ]
    }
   ],
   "source": [
    "import pandas as pd\n",
    "from sklearn.model_selection import train_test_split\n",
    "from sklearn.metrics import accuracy_score, f1_score, precision_score, recall_score\n",
    "from sklearn.svm import SVC\n",
    "import xgboost\n",
    "from sklearn.model_selection import GridSearchCV\n",
    "from sklearn.model_selection import StratifiedKFold\n",
    "\n",
    "\n",
    "data = pd.read_csv('data/hourly_join.csv')\n",
    "\n",
    "data[['pos','neg','neu']] = data[['pos','neg','neu']].pct_change()\n",
    "\n",
    "data['label'] = data['c'].pct_change()\n",
    "data = data[data['label'].notna()]\n",
    "print(data['label'])\n",
    "\n",
    "def get_label(x):\n",
    "    if x>=-0.005 and x<=0.005:\n",
    "        return 1\n",
    "    # elif x<=-0.001:\n",
    "    #     return 2\n",
    "    return 0\n",
    "\n",
    "data['label'] = data['label'].map(get_label)\n",
    "# print(data['label'])\n",
    "print(len(data[data['label']==1]), len(data[data['label']==0]), len(data[data['label']==1])/len(data))\n",
    "# lag 一天\n",
    "# data[['pos','neg','neu']] = data[['pos','neg','neu']].shift(3)\n",
    "\n",
    "# start = '2020-01-01'\n",
    "# end = '2023-05-31'\n",
    "# data['date'] = pd.to_datetime(data['date'])\n",
    "# data = data[(data['date']>= pd.Timestamp(start)) & (data['date'] <= pd.Timestamp(end))]\n",
    "\n",
    "\n",
    "\n",
    "\n",
    "# \n",
    "# df = pd.read_csv('predict_model_train_data.csv')\n",
    "df = data\n",
    "# print(df)\n",
    "features = df[['pos', 'neg', 'neu']]\n",
    "labels = df['label']\n",
    "# 假设数据集X为特征矩阵，y为目标变量\n",
    "X_train, X_test, y_train, y_test = train_test_split(features, labels, test_size=0.2, random_state=42)\n"
   ]
  },
  {
   "cell_type": "code",
   "execution_count": 24,
   "metadata": {},
   "outputs": [
    {
     "name": "stdout",
     "output_type": "stream",
     "text": [
      "accuracy_score: 0.6866541744742869\n"
     ]
    }
   ],
   "source": [
    "# param_grid = {'C': [1e-3, 1e-2, 1e-1, 1, 10, 100, 1000,10000]} \n",
    "\n",
    "# model = SVC(kernel='rbf')\n",
    "\n",
    "# kfold = StratifiedKFold(n_splits=5, shuffle=True, random_state=42)\n",
    "# grid_search = GridSearchCV(model, param_grid, n_jobs = 8, verbose=1,scoring=\"f1\")\n",
    "\n",
    "# grid_search.fit(X_train, y_train)\n",
    "# best_parameters = grid_search.best_estimator_.get_params()\n",
    "# for para, val in list(best_parameters.items()):\n",
    "#     print(para, val)\n",
    "\n",
    "# model = SVC(kernel='rbf', C=best_parameters['C'])\n",
    "model = SVC()\n",
    "model.fit(X_train, y_train)\n",
    "y_pred = model.predict(X_test)\n",
    "accuracy = accuracy_score(y_test, y_pred)\n",
    "print('accuracy_score:', accuracy_score(y_test, y_pred))\n",
    "# print('precision_score:', precision_score(y_test, y_pred))\n",
    "# print('recall_score:', recall_score(y_test, y_pred))\n",
    "# print('f1_score:', f1_score(y_test, y_pred))\n"
   ]
  },
  {
   "attachments": {},
   "cell_type": "markdown",
   "metadata": {},
   "source": []
  },
  {
   "cell_type": "code",
   "execution_count": 25,
   "metadata": {},
   "outputs": [],
   "source": [
    "# # 定义参数空间\n",
    "# param_grid = {'C': [0.1, 1, 10, 100],\n",
    "#               'gamma': [0.1, 1, 10, 100],\n",
    "#               'kernel': ['linear', 'rbf', 'poly']}\n",
    "\n",
    "# # 创建 SVM 模型\n",
    "# model = SVC()\n",
    "\n",
    "# # 创建 GridSearchCV 对象\n",
    "# grid_search = GridSearchCV(model, param_grid, cv=5)\n",
    "\n",
    "# # 执行网格搜索\n",
    "# grid_search.fit(X_train, y_train)\n",
    "\n",
    "# # 输出最佳参数和对应的准确率\n",
    "# print('Best Parameters:', grid_search.best_params_)\n",
    "# print('Best Accuracy:', grid_search.best_score_)"
   ]
  }
 ],
 "metadata": {
  "kernelspec": {
   "display_name": "base",
   "language": "python",
   "name": "python3"
  },
  "language_info": {
   "codemirror_mode": {
    "name": "ipython",
    "version": 3
   },
   "file_extension": ".py",
   "mimetype": "text/x-python",
   "name": "python",
   "nbconvert_exporter": "python",
   "pygments_lexer": "ipython3",
   "version": "3.10.10"
  },
  "orig_nbformat": 4
 },
 "nbformat": 4,
 "nbformat_minor": 2
}
