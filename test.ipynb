{
 "cells": [
  {
   "cell_type": "code",
   "execution_count": 58,
   "metadata": {},
   "outputs": [
    {
     "name": "stdout",
     "output_type": "stream",
     "text": [
      "torch.Size([10, 10, 4])\n",
      "torch.Size([100, 4])\n",
      "tensor([10.0000, 10.0000, 10.0000, 10.0000])\n"
     ]
    },
    {
     "data": {
      "text/plain": [
       "2"
      ]
     },
     "execution_count": 58,
     "metadata": {},
     "output_type": "execute_result"
    }
   ],
   "source": [
    "import torch\n",
    "x = torch.randn(100,4)\n",
    "x = x.reshape(10,-1,4)\n",
    "print(x.shape)\n",
    "probabilities = torch.softmax(x, dim=1).view(-1, 4)\n",
    "# 计算每个样本概率总和并获取最大概率的位置索引\n",
    "print(probabilities.shape)\n",
    "sum_probs = torch.sum(probabilities, dim=0)\n",
    "print(sum_probs)\n",
    "max_prob_idx = torch.argmax(sum_probs, dim=0)\n",
    "max_prob_idx.item()"
   ]
  },
  {
   "cell_type": "code",
   "execution_count": 19,
   "metadata": {},
   "outputs": [
    {
     "name": "stdout",
     "output_type": "stream",
     "text": [
      "Parameter containing:\n",
      "tensor([[-0.1469,  0.3493],\n",
      "        [-0.4337, -0.0356],\n",
      "        [ 0.4448,  0.5414],\n",
      "        [ 0.4740,  0.1614],\n",
      "        [ 0.0416,  0.6871]], requires_grad=True)\n",
      "tensor([[-0.6293, -0.5653, -0.0320,  0.4695, -0.7742],\n",
      "        [ 0.6409,  0.1415,  0.6835,  0.0464,  1.1084],\n",
      "        [ 0.1430,  0.0667,  0.0998, -0.0321,  0.2214],\n",
      "        [-0.3449, -0.1441, -0.2661,  0.0571, -0.5465],\n",
      "        [ 0.5404, -0.2372,  1.1107,  0.4697,  1.1973],\n",
      "        [ 0.2690,  0.4527, -0.3027, -0.4556,  0.1754],\n",
      "        [-0.3904,  0.3851, -1.1228, -0.5976, -1.0224],\n",
      "        [ 0.1039,  0.1040, -0.0106, -0.0903,  0.1200],\n",
      "        [ 0.0334,  0.1447, -0.1702, -0.1635, -0.0434],\n",
      "        [ 0.4104, -0.1787,  0.8413,  0.3550,  0.9082]], grad_fn=<MmBackward0>)\n"
     ]
    },
    {
     "data": {
      "text/plain": [
       "tensor([[-0.6293, -0.5653, -0.0320,  0.4695, -0.7742],\n",
       "        [ 0.6409,  0.1415,  0.6835,  0.0464,  1.1084],\n",
       "        [ 0.1430,  0.0667,  0.0998, -0.0321,  0.2214],\n",
       "        [-0.3449, -0.1441, -0.2661,  0.0571, -0.5465],\n",
       "        [ 0.5404, -0.2372,  1.1107,  0.4697,  1.1973],\n",
       "        [ 0.2690,  0.4527, -0.3027, -0.4556,  0.1754],\n",
       "        [-0.3904,  0.3851, -1.1228, -0.5976, -1.0224],\n",
       "        [ 0.1039,  0.1040, -0.0106, -0.0903,  0.1200],\n",
       "        [ 0.0334,  0.1447, -0.1702, -0.1635, -0.0434],\n",
       "        [ 0.4104, -0.1787,  0.8413,  0.3550,  0.9082]], grad_fn=<MmBackward0>)"
      ]
     },
     "execution_count": 19,
     "metadata": {},
     "output_type": "execute_result"
    }
   ],
   "source": [
    "import torch\n",
    "from torch.nn import functional\n",
    "a = torch.randn(10,2)\n",
    "\n",
    "lin = torch.nn.Linear(2,5,False)\n",
    "for param in lin.parameters():\n",
    "    print(param)\n",
    "# print(lin.named_modules())\n",
    "print(lin(a))\n",
    "# print(torch.mul(a,(lin.weight).T))\n",
    "functional.linear(a,lin.weight)"
   ]
  },
  {
   "cell_type": "code",
   "execution_count": null,
   "metadata": {},
   "outputs": [],
   "source": []
  },
  {
   "cell_type": "code",
   "execution_count": null,
   "metadata": {},
   "outputs": [],
   "source": []
  }
 ],
 "metadata": {
  "kernelspec": {
   "display_name": "base",
   "language": "python",
   "name": "python3"
  },
  "language_info": {
   "codemirror_mode": {
    "name": "ipython",
    "version": 3
   },
   "file_extension": ".py",
   "mimetype": "text/x-python",
   "name": "python",
   "nbconvert_exporter": "python",
   "pygments_lexer": "ipython3",
   "version": "3.10.10"
  },
  "orig_nbformat": 4
 },
 "nbformat": 4,
 "nbformat_minor": 2
}
